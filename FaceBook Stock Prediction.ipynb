{
 "cells": [
  {
   "cell_type": "code",
   "execution_count": 1,
   "metadata": {},
   "outputs": [],
   "source": [
    "import pandas as pd\n",
    "import numpy as np\n",
    "from sklearn.svm import SVR\n",
    "import matplotlib.pyplot as plt\n",
    "from sklearn.linear_model import LinearRegression"
   ]
  },
  {
   "cell_type": "code",
   "execution_count": 2,
   "metadata": {},
   "outputs": [
    {
     "data": {
      "text/html": [
       "<div>\n",
       "<style scoped>\n",
       "    .dataframe tbody tr th:only-of-type {\n",
       "        vertical-align: middle;\n",
       "    }\n",
       "\n",
       "    .dataframe tbody tr th {\n",
       "        vertical-align: top;\n",
       "    }\n",
       "\n",
       "    .dataframe thead th {\n",
       "        text-align: right;\n",
       "    }\n",
       "</style>\n",
       "<table border=\"1\" class=\"dataframe\">\n",
       "  <thead>\n",
       "    <tr style=\"text-align: right;\">\n",
       "      <th></th>\n",
       "      <th>Date</th>\n",
       "      <th>Open</th>\n",
       "      <th>High</th>\n",
       "      <th>Low</th>\n",
       "      <th>Close</th>\n",
       "      <th>Adj Close</th>\n",
       "      <th>Volume</th>\n",
       "    </tr>\n",
       "  </thead>\n",
       "  <tbody>\n",
       "    <tr>\n",
       "      <th>0</th>\n",
       "      <td>2020-02-26</td>\n",
       "      <td>197.190002</td>\n",
       "      <td>201.210007</td>\n",
       "      <td>195.490005</td>\n",
       "      <td>197.199997</td>\n",
       "      <td>197.199997</td>\n",
       "      <td>16524500</td>\n",
       "    </tr>\n",
       "    <tr>\n",
       "      <th>1</th>\n",
       "      <td>2020-02-27</td>\n",
       "      <td>191.820007</td>\n",
       "      <td>195.880005</td>\n",
       "      <td>189.500000</td>\n",
       "      <td>189.750000</td>\n",
       "      <td>189.750000</td>\n",
       "      <td>21682600</td>\n",
       "    </tr>\n",
       "    <tr>\n",
       "      <th>2</th>\n",
       "      <td>2020-02-28</td>\n",
       "      <td>182.699997</td>\n",
       "      <td>192.740005</td>\n",
       "      <td>181.820007</td>\n",
       "      <td>192.470001</td>\n",
       "      <td>192.470001</td>\n",
       "      <td>32583500</td>\n",
       "    </tr>\n",
       "    <tr>\n",
       "      <th>3</th>\n",
       "      <td>2020-03-02</td>\n",
       "      <td>194.029999</td>\n",
       "      <td>196.570007</td>\n",
       "      <td>188.850006</td>\n",
       "      <td>196.440002</td>\n",
       "      <td>196.440002</td>\n",
       "      <td>24949000</td>\n",
       "    </tr>\n",
       "    <tr>\n",
       "      <th>4</th>\n",
       "      <td>2020-03-03</td>\n",
       "      <td>196.220001</td>\n",
       "      <td>197.240005</td>\n",
       "      <td>183.970001</td>\n",
       "      <td>185.889999</td>\n",
       "      <td>185.889999</td>\n",
       "      <td>27984100</td>\n",
       "    </tr>\n",
       "  </tbody>\n",
       "</table>\n",
       "</div>"
      ],
      "text/plain": [
       "         Date        Open        High         Low       Close   Adj Close  \\\n",
       "0  2020-02-26  197.190002  201.210007  195.490005  197.199997  197.199997   \n",
       "1  2020-02-27  191.820007  195.880005  189.500000  189.750000  189.750000   \n",
       "2  2020-02-28  182.699997  192.740005  181.820007  192.470001  192.470001   \n",
       "3  2020-03-02  194.029999  196.570007  188.850006  196.440002  196.440002   \n",
       "4  2020-03-03  196.220001  197.240005  183.970001  185.889999  185.889999   \n",
       "\n",
       "     Volume  \n",
       "0  16524500  \n",
       "1  21682600  \n",
       "2  32583500  \n",
       "3  24949000  \n",
       "4  27984100  "
      ]
     },
     "execution_count": 2,
     "metadata": {},
     "output_type": "execute_result"
    }
   ],
   "source": [
    "# load the data\n",
    "df=pd.read_csv('FB.csv')   #3 months data\n",
    "df.head()"
   ]
  },
  {
   "cell_type": "code",
   "execution_count": 3,
   "metadata": {},
   "outputs": [
    {
     "name": "stdout",
     "output_type": "stream",
     "text": [
      "<class 'pandas.core.frame.DataFrame'>\n",
      "RangeIndex: 42 entries, 0 to 41\n",
      "Data columns (total 7 columns):\n",
      " #   Column     Non-Null Count  Dtype  \n",
      "---  ------     --------------  -----  \n",
      " 0   Date       42 non-null     object \n",
      " 1   Open       42 non-null     float64\n",
      " 2   High       42 non-null     float64\n",
      " 3   Low        42 non-null     float64\n",
      " 4   Close      42 non-null     float64\n",
      " 5   Adj Close  42 non-null     float64\n",
      " 6   Volume     42 non-null     int64  \n",
      "dtypes: float64(5), int64(1), object(1)\n",
      "memory usage: 2.4+ KB\n"
     ]
    }
   ],
   "source": [
    "df.info()"
   ]
  },
  {
   "cell_type": "code",
   "execution_count": 4,
   "metadata": {},
   "outputs": [],
   "source": [
    "# create the lists of X and Y\n",
    "dates=[]  #dependent variable ( Date )\n",
    "prices=[]   # independent variable ( open )"
   ]
  },
  {
   "cell_type": "code",
   "execution_count": 5,
   "metadata": {},
   "outputs": [
    {
     "data": {
      "text/plain": [
       "(42, 7)"
      ]
     },
     "execution_count": 5,
     "metadata": {},
     "output_type": "execute_result"
    }
   ],
   "source": [
    "df.shape  # some data are missing but its not a problem"
   ]
  },
  {
   "cell_type": "code",
   "execution_count": 6,
   "metadata": {},
   "outputs": [
    {
     "data": {
      "text/html": [
       "<div>\n",
       "<style scoped>\n",
       "    .dataframe tbody tr th:only-of-type {\n",
       "        vertical-align: middle;\n",
       "    }\n",
       "\n",
       "    .dataframe tbody tr th {\n",
       "        vertical-align: top;\n",
       "    }\n",
       "\n",
       "    .dataframe thead th {\n",
       "        text-align: right;\n",
       "    }\n",
       "</style>\n",
       "<table border=\"1\" class=\"dataframe\">\n",
       "  <thead>\n",
       "    <tr style=\"text-align: right;\">\n",
       "      <th></th>\n",
       "      <th>Date</th>\n",
       "      <th>Open</th>\n",
       "      <th>High</th>\n",
       "      <th>Low</th>\n",
       "      <th>Close</th>\n",
       "      <th>Adj Close</th>\n",
       "      <th>Volume</th>\n",
       "    </tr>\n",
       "  </thead>\n",
       "  <tbody>\n",
       "    <tr>\n",
       "      <th>41</th>\n",
       "      <td>2020-04-24</td>\n",
       "      <td>183.229996</td>\n",
       "      <td>190.410004</td>\n",
       "      <td>180.830002</td>\n",
       "      <td>190.070007</td>\n",
       "      <td>190.070007</td>\n",
       "      <td>28792000</td>\n",
       "    </tr>\n",
       "  </tbody>\n",
       "</table>\n",
       "</div>"
      ],
      "text/plain": [
       "          Date        Open        High         Low       Close   Adj Close  \\\n",
       "41  2020-04-24  183.229996  190.410004  180.830002  190.070007  190.070007   \n",
       "\n",
       "      Volume  \n",
       "41  28792000  "
      ]
     },
     "execution_count": 6,
     "metadata": {},
     "output_type": "execute_result"
    }
   ],
   "source": [
    "# print the last row of the data which we will test on\n",
    "df.tail(1)"
   ]
  },
  {
   "cell_type": "code",
   "execution_count": 7,
   "metadata": {},
   "outputs": [
    {
     "name": "stdout",
     "output_type": "stream",
     "text": [
      "(41, 7)\n"
     ]
    }
   ],
   "source": [
    "# get all the data excpet last row\n",
    "df=df.head(len(df)-1)\n",
    "print(df.shape)"
   ]
  },
  {
   "cell_type": "code",
   "execution_count": 8,
   "metadata": {},
   "outputs": [],
   "source": [
    "df_dates=df.loc[:,'Date']  #get all rows from date column\n",
    "df_open=df.loc[:,'Open']   #get all the rows from open column"
   ]
  },
  {
   "cell_type": "code",
   "execution_count": 9,
   "metadata": {},
   "outputs": [],
   "source": [
    "for date in df_dates:\n",
    "    dates.append([int(date.split('-')[2])])\n",
    "    \n",
    "# create a dependent variables Y prices\n",
    "for open_price in df_open:\n",
    "    prices.append(float(open_price))"
   ]
  },
  {
   "cell_type": "code",
   "execution_count": 10,
   "metadata": {},
   "outputs": [],
   "source": [
    "# function to predict using SVR models with 3 diffrent kernels\n",
    "def predict_prices(dates,prices,x):\n",
    "    \n",
    "    svr_lin=SVR(kernel='linear',C=103)\n",
    "    svr_poly=SVR(kernel='poly',C=103,degree=3)\n",
    "    svr_rbf=SVR(kernel='rbf',C=103,gamma=0.1)\n",
    "    \n",
    "#Train the models on the dates and prices\n",
    "\n",
    "    svr_lin.fit(dates,prices)\n",
    "    svr_poly.fit(dates,prices)\n",
    "    svr_rbf.fit(dates,prices)\n",
    "\n",
    "\n",
    "#plot the model to see which has the best fit\n",
    "\n",
    "    plt.scatter(dates,prices,color='black',label='Data')\n",
    "    plt.scatter(dates,svr_rbf.predict(dates),color='red',label='RBF model')\n",
    "    plt.scatter(dates,svr_lin.predict(dates),color='green',label='Linear model')\n",
    "    plt.scatter(dates,svr_poly.predict(dates),color='blue',label='Polynomial model')\n",
    "    plt.xlabel('Date')\n",
    "    plt.ylabel('Price')\n",
    "    plt.title('Support Vector regressor')\n",
    "    plt.show()\n",
    "\n",
    "    # returning all 3 model prediction\n",
    "    return svr_rbf.predict(x)[0],svr_lin.predict(x)[0],svr_poly.predict(x)[0]"
   ]
  },
  {
   "cell_type": "code",
   "execution_count": 11,
   "metadata": {},
   "outputs": [
    {
     "data": {
      "image/png": "[encoded data removed]",
      "text/plain": [
       "<Figure size 432x288 with 1 Axes>"
      ]
     },
     "metadata": {
      "needs_background": "light"
     },
     "output_type": "display_data"
    },
    {
     "name": "stdout",
     "output_type": "stream",
     "text": [
      "(167.16029468560748, 168.79199560003534, 170.6082788813157)\n"
     ]
    }
   ],
   "source": [
    "# predict the price of FB on day 31\n",
    "predicted_price=predict_prices(dates,prices,[[23]])\n",
    "\n",
    "print(predicted_price)"
   ]
  },
  {
   "cell_type": "code",
   "execution_count": null,
   "metadata": {},
   "outputs": [],
   "source": []
  }
 ],
 "metadata": {
  "kernelspec": {
   "display_name": "Python 3",
   "language": "python",
   "name": "python3"
  },
  "language_info": {
   "codemirror_mode": {
    "name": "ipython",
    "version": 3
   },
   "file_extension": ".py",
   "mimetype": "text/x-python",
   "name": "python",
   "nbconvert_exporter": "python",
   "pygments_lexer": "ipython3",
   "version": "3.7.3"
  }
 },
 "nbformat": 4,
 "nbformat_minor": 2
}
